{
  "cells": [
    {
      "cell_type": "code",
      "execution_count": 1,
      "metadata": {
        "execution": {
          "iopub.execute_input": "2022-08-21T11:15:56.112887Z",
          "iopub.status.busy": "2022-08-21T11:15:56.112258Z",
          "iopub.status.idle": "2022-08-21T11:15:56.117560Z",
          "shell.execute_reply": "2022-08-21T11:15:56.116340Z",
          "shell.execute_reply.started": "2022-08-21T11:15:56.112850Z"
        },
        "id": "25sjQATIUNiq",
        "trusted": true
      },
      "outputs": [],
      "source": [
        "import numpy as np \n",
        "import pandas as pd "
      ]
    },
    {
      "cell_type": "code",
      "execution_count": 2,
      "metadata": {
        "execution": {
          "iopub.execute_input": "2022-08-21T11:15:56.127498Z",
          "iopub.status.busy": "2022-08-21T11:15:56.126835Z",
          "iopub.status.idle": "2022-08-21T11:15:56.151248Z",
          "shell.execute_reply": "2022-08-21T11:15:56.150446Z",
          "shell.execute_reply.started": "2022-08-21T11:15:56.127461Z"
        },
        "id": "n2YGmI5gUNiu",
        "trusted": true
      },
      "outputs": [],
      "source": [
        "students = pd.read_csv(\"/content/students.csv\")\n",
        "exams = pd.read_csv(\"/content/exams.csv\")\n",
        "enrolments = pd.read_csv(\"/content/enrolements.csv\")\n",
        "rooms = pd.read_csv(\"/content/indexed_rooms.csv\")\n",
        "slots= pd.read_csv(\"/content/slots.csv\")"
      ]
    },
    {
      "cell_type": "code",
      "execution_count": 3,
      "metadata": {
        "execution": {
          "iopub.execute_input": "2022-08-21T11:15:56.155472Z",
          "iopub.status.busy": "2022-08-21T11:15:56.154614Z",
          "iopub.status.idle": "2022-08-21T11:15:56.167616Z",
          "shell.execute_reply": "2022-08-21T11:15:56.166653Z",
          "shell.execute_reply.started": "2022-08-21T11:15:56.155437Z"
        },
        "id": "Hn7-_uxiUNiw",
        "trusted": true
      },
      "outputs": [],
      "source": [
        "class Exam:\n",
        "    def __init__(self, exam_code, name, duration, department_code):\n",
        "        self.code = exam_code\n",
        "        self.name = name\n",
        "        self.duration = duration\n",
        "        self.duration_min = 0\n",
        "        self.dep_code = department_code\n",
        "        self.conflicts = 0\n",
        "        self.exam_conflicts = set()\n",
        "        self.priority = 0\n",
        "        self.slot = -1\n",
        "        self.student_codes = []\n",
        "        self.students = []\n",
        "        self.rooms = []\n",
        "        self.room_assigned = False\n",
        "        self.access_requirement = False\n",
        "        self.students_with_access_needs = []\n",
        "        self.students_assigned = 0\n",
        "\n",
        "class Student:\n",
        "    def __init__(self, student_code, course_code, accessibility_need):\n",
        "        self.code = student_code\n",
        "        self.course_code = course_code\n",
        "        self.accessibility_need = accessibility_need\n",
        "        self.exams = []\n",
        "        self.exam_codes = []\n",
        "\n",
        "class Enrolment:\n",
        "    def __init__(self, student_code, exam_code):\n",
        "        self.student_code = student_code\n",
        "        self.exam_code = exam_code\n",
        "\n",
        "class Room:\n",
        "    def __init__(self, index, room_code, capacity, accessible):\n",
        "        self.index = index\n",
        "        self.code = room_code\n",
        "        self.capacity = capacity\n",
        "        self.status = False\n",
        "        self.accessible = accessible\n",
        "        self.seats_occupied = 0\n",
        "class Slot:\n",
        "    def __init__(self, index, date, day, type):\n",
        "        self.index = index\n",
        "        self.date = date\n",
        "        self.day = day\n",
        "        self.type = type\n",
        "        self.exams = []\n",
        "        self.student_count = 0"
      ]
    },
    {
      "cell_type": "code",
      "execution_count": 4,
      "metadata": {
        "execution": {
          "iopub.execute_input": "2022-08-21T11:15:56.212490Z",
          "iopub.status.busy": "2022-08-21T11:15:56.211851Z",
          "iopub.status.idle": "2022-08-21T11:15:56.221457Z",
          "shell.execute_reply": "2022-08-21T11:15:56.220559Z",
          "shell.execute_reply.started": "2022-08-21T11:15:56.212454Z"
        },
        "id": "PuGUT5cAUNiy",
        "trusted": true
      },
      "outputs": [],
      "source": [
        "exam_objects = [Exam(**kwargs) for kwargs in exams.to_dict(orient='records')]\n",
        "\n",
        "student_objects = [Student(**kwargs) for kwargs in students.to_dict(orient='records')]\n",
        "\n",
        "enrolment_objects = [Enrolment(**kwargs) for kwargs in enrolments.to_dict(orient='records')]\n",
        "\n",
        "room_objects = [Room(**kwargs) for kwargs in rooms.to_dict(orient='records')]\n",
        "\n",
        "slot_objects = [Slot(**kwargs) for kwargs in slots.to_dict(orient='records')]"
      ]
    },
    {
      "cell_type": "code",
      "execution_count": 5,
      "metadata": {
        "execution": {
          "iopub.execute_input": "2022-08-21T11:15:56.265179Z",
          "iopub.status.busy": "2022-08-21T11:15:56.264411Z",
          "iopub.status.idle": "2022-08-21T11:15:56.270114Z",
          "shell.execute_reply": "2022-08-21T11:15:56.269163Z",
          "shell.execute_reply.started": "2022-08-21T11:15:56.265137Z"
        },
        "id": "9RhK29lDUNiz",
        "trusted": true
      },
      "outputs": [],
      "source": [
        "for i in enrolment_objects:\n",
        "    for j in student_objects:\n",
        "        if j.code == i.student_code:\n",
        "            j.exam_codes.append(i.exam_code)"
      ]
    },
    {
      "cell_type": "code",
      "execution_count": 6,
      "metadata": {
        "execution": {
          "iopub.execute_input": "2022-08-21T11:15:56.320147Z",
          "iopub.status.busy": "2022-08-21T11:15:56.319586Z",
          "iopub.status.idle": "2022-08-21T11:15:56.325910Z",
          "shell.execute_reply": "2022-08-21T11:15:56.324870Z",
          "shell.execute_reply.started": "2022-08-21T11:15:56.320107Z"
        },
        "id": "JdPRK_KfUNi0",
        "trusted": true
      },
      "outputs": [],
      "source": [
        "for i in student_objects:\n",
        "    for j in exam_objects:\n",
        "        for k in i.exam_codes:\n",
        "            if k == j.code:\n",
        "                i.exams.append(j)"
      ]
    },
    {
      "cell_type": "code",
      "execution_count": 7,
      "metadata": {
        "execution": {
          "iopub.execute_input": "2022-08-21T11:15:56.329582Z",
          "iopub.status.busy": "2022-08-21T11:15:56.328870Z",
          "iopub.status.idle": "2022-08-21T11:15:56.336655Z",
          "shell.execute_reply": "2022-08-21T11:15:56.335758Z",
          "shell.execute_reply.started": "2022-08-21T11:15:56.329544Z"
        },
        "id": "edAqUGpfUNi1",
        "trusted": true
      },
      "outputs": [],
      "source": [
        "for i in enrolment_objects:\n",
        "    for j in exam_objects:\n",
        "        if j.code == i.exam_code:\n",
        "            j.student_codes.append(i.student_code)"
      ]
    },
    {
      "cell_type": "code",
      "execution_count": 8,
      "metadata": {
        "execution": {
          "iopub.execute_input": "2022-08-21T11:15:56.340238Z",
          "iopub.status.busy": "2022-08-21T11:15:56.338075Z",
          "iopub.status.idle": "2022-08-21T11:15:56.347590Z",
          "shell.execute_reply": "2022-08-21T11:15:56.346579Z",
          "shell.execute_reply.started": "2022-08-21T11:15:56.340210Z"
        },
        "id": "AaOIt6boUNi2",
        "trusted": true
      },
      "outputs": [],
      "source": [
        "for i in exam_objects:\n",
        "    for j in student_objects:\n",
        "        for k in i.student_codes:\n",
        "            if k == j.code:\n",
        "                i.students.append(j)"
      ]
    },
    {
      "cell_type": "code",
      "execution_count": 9,
      "metadata": {
        "id": "3Yta09nVUNi3"
      },
      "outputs": [],
      "source": [
        "for i in exam_objects:\n",
        "    for j in i.students:\n",
        "        if j.accessibility_need == True:\n",
        "            i.access_requirement = True\n",
        "            i.students_with_access_needs.append(j)"
      ]
    },
    {
      "cell_type": "code",
      "execution_count": 10,
      "metadata": {
        "execution": {
          "iopub.execute_input": "2022-08-21T11:15:56.419625Z",
          "iopub.status.busy": "2022-08-21T11:15:56.418914Z",
          "iopub.status.idle": "2022-08-21T11:15:56.424602Z",
          "shell.execute_reply": "2022-08-21T11:15:56.423510Z",
          "shell.execute_reply.started": "2022-08-21T11:15:56.419597Z"
        },
        "id": "35GkxdDjUNi5",
        "trusted": true
      },
      "outputs": [],
      "source": [
        "def getRoomKey(obj):\n",
        "    return obj.capacity"
      ]
    },
    {
      "cell_type": "code",
      "execution_count": 11,
      "metadata": {
        "execution": {
          "iopub.execute_input": "2022-08-21T11:15:56.505580Z",
          "iopub.status.busy": "2022-08-21T11:15:56.505011Z",
          "iopub.status.idle": "2022-08-21T11:15:56.511382Z",
          "shell.execute_reply": "2022-08-21T11:15:56.510522Z",
          "shell.execute_reply.started": "2022-08-21T11:15:56.505543Z"
        },
        "id": "zvDJj8f_UNi6",
        "trusted": true
      },
      "outputs": [],
      "source": [
        "def hhToSeconds(s):\n",
        "    t = 0\n",
        "    splitTime = s.split(':')\n",
        "    t = 60 * int(splitTime[0]) + int(splitTime[1])\n",
        "    return t"
      ]
    },
    {
      "cell_type": "code",
      "execution_count": 12,
      "metadata": {
        "execution": {
          "iopub.execute_input": "2022-08-21T11:15:56.521027Z",
          "iopub.status.busy": "2022-08-21T11:15:56.520774Z",
          "iopub.status.idle": "2022-08-21T11:15:56.525661Z",
          "shell.execute_reply": "2022-08-21T11:15:56.524671Z",
          "shell.execute_reply.started": "2022-08-21T11:15:56.521003Z"
        },
        "id": "mYcORvzHUNi7",
        "trusted": true
      },
      "outputs": [],
      "source": [
        "for i in exam_objects:\n",
        "    i.duration_min = hhToSeconds(str(i.duration))"
      ]
    },
    {
      "cell_type": "code",
      "execution_count": 13,
      "metadata": {
        "execution": {
          "iopub.execute_input": "2022-08-21T11:15:56.541041Z",
          "iopub.status.busy": "2022-08-21T11:15:56.540376Z",
          "iopub.status.idle": "2022-08-21T11:15:56.547739Z",
          "shell.execute_reply": "2022-08-21T11:15:56.546792Z",
          "shell.execute_reply.started": "2022-08-21T11:15:56.541012Z"
        },
        "id": "rgubaJT-UNi7",
        "trusted": true
      },
      "outputs": [],
      "source": [
        "def degreeOfConflict(exam):\n",
        "    s = set()\n",
        "    for i in exam.students:\n",
        "        for j in i.exams:\n",
        "            if exam.code != j.code:\n",
        "                s.add(j)\n",
        "    exam.exam_conflicts = s\n",
        "    return len(s)"
      ]
    },
    {
      "cell_type": "code",
      "execution_count": 14,
      "metadata": {
        "execution": {
          "iopub.execute_input": "2022-08-21T11:15:56.578952Z",
          "iopub.status.busy": "2022-08-21T11:15:56.578412Z",
          "iopub.status.idle": "2022-08-21T11:15:56.583344Z",
          "shell.execute_reply": "2022-08-21T11:15:56.582450Z",
          "shell.execute_reply.started": "2022-08-21T11:15:56.578925Z"
        },
        "id": "hPluSUrLUNi7",
        "trusted": true
      },
      "outputs": [],
      "source": [
        "for i in exam_objects:\n",
        "    i.conflicts = degreeOfConflict(i)"
      ]
    },
    {
      "cell_type": "code",
      "execution_count": 15,
      "metadata": {
        "execution": {
          "iopub.execute_input": "2022-08-21T11:15:56.599177Z",
          "iopub.status.busy": "2022-08-21T11:15:56.598419Z",
          "iopub.status.idle": "2022-08-21T11:15:56.609290Z",
          "shell.execute_reply": "2022-08-21T11:15:56.608395Z",
          "shell.execute_reply.started": "2022-08-21T11:15:56.599141Z"
        },
        "id": "LzCWpPinUNi8",
        "trusted": true
      },
      "outputs": [],
      "source": [
        "def partialExamOrdering():\n",
        "    sup = np.zeros(len(exam_objects))\n",
        "    for i in range(len(exam_objects)):\n",
        "        for j in range(len(exam_objects)):\n",
        "            if exam_objects[i].conflicts > exam_objects[j].conflicts:\n",
        "                sup[i] = sup[i] + 1\n",
        "                continue\n",
        "            elif exam_objects[i].conflicts < exam_objects[j].conflicts:\n",
        "                sup[j] = sup[j] + 1\n",
        "                continue\n",
        "            if len(exam_objects[i].students) > len(exam_objects[j].students):\n",
        "                sup[i] = sup[i] + 1\n",
        "                continue\n",
        "            elif len(exam_objects[i].students) < len(exam_objects[j].students):\n",
        "                sup[j] = sup[j] + 1\n",
        "                continue\n",
        "            if exam_objects[i].duration_min > exam_objects[j].duration_min:\n",
        "                sup[i] = sup[i] + 1\n",
        "                continue\n",
        "            elif exam_objects[i].duration_min < exam_objects[j].duration_min:\n",
        "                sup[j] = sup[j] + 1\n",
        "                continue\n",
        "            if len(exam_objects[i].students_with_access_needs) > len(exam_objects[j].students_with_access_needs):\n",
        "                sup[i] = sup[i] + 1\n",
        "                continue\n",
        "            elif len(exam_objects[i].students_with_access_needs) < len(exam_objects[j].students_with_access_needs):\n",
        "                sup[j] = sup[j] + 1\n",
        "                continue\n",
        "            if exam_objects[i].code > exam_objects[j].code:\n",
        "                sup[j] = sup[j] + 1\n",
        "                continue\n",
        "            elif exam_objects[i].code < exam_objects[j].code:\n",
        "                sup[i] = sup[i] + 1\n",
        "                continue\n",
        "    return sup                               "
      ]
    },
    {
      "cell_type": "code",
      "execution_count": 16,
      "metadata": {
        "execution": {
          "iopub.execute_input": "2022-08-21T11:15:56.619740Z",
          "iopub.status.busy": "2022-08-21T11:15:56.619476Z",
          "iopub.status.idle": "2022-08-21T11:15:56.624988Z",
          "shell.execute_reply": "2022-08-21T11:15:56.623771Z",
          "shell.execute_reply.started": "2022-08-21T11:15:56.619715Z"
        },
        "id": "kmYYwUNOUNi8",
        "trusted": true
      },
      "outputs": [],
      "source": [
        "def totalConflictsForExams():\n",
        "    partialExamOrder = partialExamOrdering()\n",
        "    for i in range(len(exam_objects)):\n",
        "        exam_objects[i].priority = partialExamOrder[i]  "
      ]
    },
    {
      "cell_type": "code",
      "execution_count": 17,
      "metadata": {
        "execution": {
          "iopub.execute_input": "2022-08-21T11:15:56.649514Z",
          "iopub.status.busy": "2022-08-21T11:15:56.647492Z",
          "iopub.status.idle": "2022-08-21T11:15:56.653777Z",
          "shell.execute_reply": "2022-08-21T11:15:56.652648Z",
          "shell.execute_reply.started": "2022-08-21T11:15:56.649487Z"
        },
        "id": "OP_po5pqUNi8",
        "trusted": true
      },
      "outputs": [],
      "source": [
        "def getKey(obj):\n",
        "    return obj.priority"
      ]
    },
    {
      "cell_type": "code",
      "execution_count": 18,
      "metadata": {
        "execution": {
          "iopub.execute_input": "2022-08-21T11:15:56.690465Z",
          "iopub.status.busy": "2022-08-21T11:15:56.689631Z",
          "iopub.status.idle": "2022-08-21T11:15:56.698989Z",
          "shell.execute_reply": "2022-08-21T11:15:56.698132Z",
          "shell.execute_reply.started": "2022-08-21T11:15:56.690429Z"
        },
        "id": "CEYt_vZPUNi9",
        "trusted": true
      },
      "outputs": [],
      "source": [
        "pheromoneMatrix = np.zeros((len(exam_objects), len(slot_objects), len(room_objects)))\n",
        "\n",
        "def updatePheromoneMatrix(t_min, t_max, EVAPORATION_RATE):\n",
        "    for i in range(len(exam_objects)):\n",
        "        for j in range(len(slot_objects)):\n",
        "            for k in range(len(room_objects)):\n",
        "                if exam_objects[i].slot.index == slot_objects[j].index and room_objects[k] in exam_objects[i].rooms:\n",
        "                    pheromoneMatrix[i][j][k] = (1 - EVAPORATION_RATE) * pheromoneMatrix[i][j][k] + 1\n",
        "                else:\n",
        "                    pheromoneMatrix[i][j][k] = (1 - EVAPORATION_RATE) * pheromoneMatrix[i][j][k]\n",
        "                if pheromoneMatrix[i][j][k] < t_min:\n",
        "                    pheromoneMatrix[i][j][k] = t_min\n",
        "                elif pheromoneMatrix[i][j][k] > t_max:\n",
        "                    pheromoneMatrix[i][j][k] = t_max\n",
        "    \n",
        "def initPheromoneMatrix(exams, slots, rooms, value):\n",
        "    for i in range(len(exams)):\n",
        "        for j in range(len(slots)):\n",
        "            for k in range(len(rooms)):\n",
        "                pheromoneMatrix[i][j][k] = value\n",
        "       "
      ]
    },
    {
      "cell_type": "code",
      "execution_count": 19,
      "metadata": {
        "execution": {
          "iopub.execute_input": "2022-08-21T11:15:56.714814Z",
          "iopub.status.busy": "2022-08-21T11:15:56.714062Z",
          "iopub.status.idle": "2022-08-21T11:15:56.721370Z",
          "shell.execute_reply": "2022-08-21T11:15:56.720455Z",
          "shell.execute_reply.started": "2022-08-21T11:15:56.714780Z"
        },
        "id": "T2GQWTrfUNi9",
        "trusted": true
      },
      "outputs": [],
      "source": [
        "heuristicsMatrix = np.zeros((len(exam_objects), len(slot_objects), len(room_objects)))\n",
        "\n",
        "def initHeuristicsMatrix(exams, slots, rooms):\n",
        "    for i in range(len(exams)):\n",
        "        for j in range(len(slots)):\n",
        "            for k in range(len(rooms)):\n",
        "                heuristicsMatrix[i][j][k] = 1\n"
      ]
    },
    {
      "cell_type": "code",
      "execution_count": 20,
      "metadata": {
        "id": "o_9RVVITUNi9"
      },
      "outputs": [],
      "source": [
        "roomCapacityMatrix = np.zeros((len(slot_objects), len(room_objects)))\n",
        "\n",
        "def initRoomCapacityMatrixMatrix(exams, slots, rooms):\n",
        "    for j in range(len(slots)):\n",
        "        for k in range(len(rooms)):\n",
        "            roomCapacityMatrix[j][k] = room_objects[k].capacity\n",
        "                \n",
        "                    "
      ]
    },
    {
      "cell_type": "code",
      "execution_count": 21,
      "metadata": {
        "execution": {
          "iopub.execute_input": "2022-08-21T11:15:56.759634Z",
          "iopub.status.busy": "2022-08-21T11:15:56.759379Z",
          "iopub.status.idle": "2022-08-21T11:15:56.765511Z",
          "shell.execute_reply": "2022-08-21T11:15:56.764423Z",
          "shell.execute_reply.started": "2022-08-21T11:15:56.759610Z"
        },
        "id": "ZmoEJxYDUNi9",
        "trusted": true
      },
      "outputs": [],
      "source": [
        "def checkForHardConstraintViolations(exam, slot, room):\n",
        "    score = 0\n",
        "    for i in exam.exam_conflicts:\n",
        "            if i.slot != -1:\n",
        "                if i.slot.index == slot.index:\n",
        "                    score += 4\n",
        "                elif np.abs(i.slot.index - slot.index) < 2:\n",
        "                    score += 4\n",
        "    if slot.day == \"Saturday\" and slot.type == \"Evening\":\n",
        "        score += 4\n",
        "    if slot.type == \"Evening\" and exam.duration_min > 90:\n",
        "        score += 4\n",
        "    if len(exam.students) + slot.student_count > 2653:\n",
        "        score += 4\n",
        "    if len(exam.students) > room.capacity:\n",
        "        score += 4\n",
        "    if exam.access_requirement and room.accessible == False:\n",
        "        score += 4\n",
        "    return score\n",
        "                    "
      ]
    },
    {
      "cell_type": "code",
      "execution_count": 22,
      "metadata": {
        "id": "Es2u2LZkUNi-"
      },
      "outputs": [],
      "source": [
        "def numIncentive(exam, slot, room):\n",
        "    score = 0\n",
        "    if slot.type == \"Evening\" and exam.duration_min <= 90:\n",
        "        score += 4\n",
        "    return 0"
      ]
    },
    {
      "cell_type": "code",
      "execution_count": 23,
      "metadata": {
        "execution": {
          "iopub.execute_input": "2022-08-21T11:15:56.780021Z",
          "iopub.status.busy": "2022-08-21T11:15:56.779150Z",
          "iopub.status.idle": "2022-08-21T11:15:56.785758Z",
          "shell.execute_reply": "2022-08-21T11:15:56.784831Z",
          "shell.execute_reply.started": "2022-08-21T11:15:56.779986Z"
        },
        "id": "Ga4XSv4DUNi-",
        "trusted": true
      },
      "outputs": [],
      "source": [
        "def checkForSoftConstraintViolations(exam, slot, room):\n",
        "    score = 0\n",
        "    for i in exam.exam_conflicts:\n",
        "        if i.slot != -1:\n",
        "            if np.abs(i.slot.index - slot.index) < 3:\n",
        "                score += 1\n",
        "    return score"
      ]
    },
    {
      "cell_type": "code",
      "execution_count": 24,
      "metadata": {
        "execution": {
          "iopub.execute_input": "2022-08-21T11:15:56.806028Z",
          "iopub.status.busy": "2022-08-21T11:15:56.805349Z",
          "iopub.status.idle": "2022-08-21T11:15:56.812233Z",
          "shell.execute_reply": "2022-08-21T11:15:56.811320Z",
          "shell.execute_reply.started": "2022-08-21T11:15:56.805991Z"
        },
        "id": "VXMDmz3XUNi-",
        "trusted": true
      },
      "outputs": [],
      "source": [
        "def findForbiddenSlots(exam):\n",
        "    forbiddenSlots = set()\n",
        "    forbiddenSlots.add(slot_objects[11])\n",
        "    for i in exam.exam_conflicts:\n",
        "        if i.slot != -1 and i.code != exam.code:\n",
        "            forbiddenSlots.add(i.slot)\n",
        "    return forbiddenSlots"
      ]
    },
    {
      "cell_type": "code",
      "execution_count": 25,
      "metadata": {
        "execution": {
          "iopub.execute_input": "2022-08-21T11:15:56.832895Z",
          "iopub.status.busy": "2022-08-21T11:15:56.830880Z",
          "iopub.status.idle": "2022-08-21T11:15:56.837133Z",
          "shell.execute_reply": "2022-08-21T11:15:56.836205Z",
          "shell.execute_reply.started": "2022-08-21T11:15:56.832867Z"
        },
        "id": "HBlfEriPUNi-",
        "trusted": true
      },
      "outputs": [],
      "source": [
        "def numAdditionalViolations(exam, slot, room):\n",
        "    score = 0\n",
        "    score += checkForHardConstraintViolations(exam, slot, room)\n",
        "    score += checkForSoftConstraintViolations(exam, slot, room)\n",
        "    return score"
      ]
    },
    {
      "cell_type": "code",
      "execution_count": 26,
      "metadata": {
        "execution": {
          "iopub.execute_input": "2022-08-21T11:15:56.855512Z",
          "iopub.status.busy": "2022-08-21T11:15:56.854979Z",
          "iopub.status.idle": "2022-08-21T11:15:56.861314Z",
          "shell.execute_reply": "2022-08-21T11:15:56.860474Z",
          "shell.execute_reply.started": "2022-08-21T11:15:56.855476Z"
        },
        "id": "Iq7vf6gYUNi-",
        "trusted": true
      },
      "outputs": [],
      "source": [
        "def pheroHeuristicSummation(examIndex, slotIndex, roomIndex, alpha, beta):\n",
        "    sum = 0\n",
        "    for j in range(len(slot_objects)):\n",
        "        for k in range(len(room_objects)):\n",
        "            if j != slotIndex and k != roomIndex:\n",
        "                sum += (pheromoneMatrix[examIndex][j][k]**alpha) * (heuristicsMatrix[examIndex][j][k]**beta)\n",
        "    return sum"
      ]
    },
    {
      "cell_type": "code",
      "execution_count": 27,
      "metadata": {
        "execution": {
          "iopub.execute_input": "2022-08-21T11:15:56.912448Z",
          "iopub.status.busy": "2022-08-21T11:15:56.911854Z",
          "iopub.status.idle": "2022-08-21T11:15:56.921353Z",
          "shell.execute_reply": "2022-08-21T11:15:56.920301Z",
          "shell.execute_reply.started": "2022-08-21T11:15:56.912405Z"
        },
        "id": "KW7wTXDPUNi_",
        "trusted": true
      },
      "outputs": [],
      "source": [
        "def chooseSlot(examIndex, exam, slots, rooms, alpha, beta):\n",
        "    slot = 0\n",
        "    room = []\n",
        "    desirability = np.zeros((len(slots), len(rooms)))\n",
        "    forbiddenSlots = list(findForbiddenSlots(exam))\n",
        "    for i in range(len(slots)):\n",
        "        for k in range(len(rooms)):\n",
        "            if roomCapacityMatrix[i][k] <= 0:\n",
        "                heuristicsMatrix[examIndex][i][k] = 0.000000000000000000001\n",
        "            else:\n",
        "                heuristicsMatrix[examIndex][i][k] = 1 / (1 + numAdditionalViolations(exam, slots[i], rooms[k]))\n",
        "            desirability[i][k] = ((pheromoneMatrix[examIndex][i][k]**alpha) * (heuristicsMatrix[examIndex][i][k]**beta))\n",
        "            for j in forbiddenSlots:\n",
        "                if slot_objects[i].index == j.index:\n",
        "                    desirability[i][k] = -1\n",
        "                    continue\n",
        "    argSortedList = np.flip(np.dstack(np.unravel_index(np.argsort(desirability.ravel()), desirability.shape))[0])\n",
        "    slot = argSortedList[0][1]\n",
        "    r = argSortedList[0][0]\n",
        "    val = desirability[slot][r]\n",
        "    availableSlots = []\n",
        "    for i in argSortedList:\n",
        "        if desirability[i[1]][i[0]] == desirability[slot][r]:\n",
        "            availableSlots.append(i[1])\n",
        "    rand = np.random.randint(0, len(availableSlots))\n",
        "    slot = availableSlots[rand]\n",
        "    for index in argSortedList:\n",
        "        if len(exam.students) - exam.students_assigned == 0:\n",
        "            break\n",
        "        if index[1] == slot:\n",
        "            room_ind = index[0]\n",
        "            index_room = rooms[room_ind]\n",
        "            room.append(index_room)\n",
        "            cap = roomCapacityMatrix[slot][room_ind]\n",
        "            if len(exam.students) - exam.students_assigned >= cap:\n",
        "                exam.students_assigned += cap\n",
        "                np.asmatrix(roomCapacityMatrix)\n",
        "                roomCapacityMatrix[slot, room_ind] = 0\n",
        "            elif len(exam.students) - exam.students_assigned < cap:\n",
        "                exam.students_assigned += len(exam.students) - exam.students_assigned\n",
        "                np.asmatrix(roomCapacityMatrix)\n",
        "                roomCapacityMatrix[slot, room_ind] -= exam.students_assigned\n",
        "    return slots[slot], room"
      ]
    },
    {
      "cell_type": "code",
      "execution_count": 28,
      "metadata": {
        "execution": {
          "iopub.execute_input": "2022-08-21T11:15:56.933688Z",
          "iopub.status.busy": "2022-08-21T11:15:56.933118Z",
          "iopub.status.idle": "2022-08-21T11:15:56.940801Z",
          "shell.execute_reply": "2022-08-21T11:15:56.939730Z",
          "shell.execute_reply.started": "2022-08-21T11:15:56.933651Z"
        },
        "id": "LUauml3QUNi_",
        "trusted": true
      },
      "outputs": [],
      "source": [
        "def evaluateHardConstraints():\n",
        "    countHard = 0\n",
        "    examsChecked = []\n",
        "    index = 0\n",
        "    for i in slot_objects:\n",
        "        if i.student_count > 2653:\n",
        "            countHard += 1\n",
        "    for i in room_objects:\n",
        "        if i.seats_occupied > i.capacity:\n",
        "            countHard += 1\n",
        "    while index < len(exam_objects):\n",
        "        exam = exam_objects[index]\n",
        "        flag = False\n",
        "        for j in exam.exam_conflicts:\n",
        "            for k in examsChecked:\n",
        "                if k == j:\n",
        "                    flag = True\n",
        "            if flag:\n",
        "                continue\n",
        "            else:\n",
        "                if exam.slot.index == j.slot.index:\n",
        "                        countHard += 1\n",
        "                elif np.abs(exam.slot.index - j.slot.index) < 2:\n",
        "                    countHard += 1\n",
        "        if exam.slot.day == \"Saturday\" and exam.slot.type == \"Evening\":\n",
        "            countHard += 1\n",
        "        if exam.slot.type == \"Evening\" and exam.duration_min > 90:\n",
        "            countHard += 1\n",
        "        if exam.access_requirement:\n",
        "            for i in list(exam.rooms)[0]:\n",
        "                if i.accessible == False:\n",
        "                    countHard += 1\n",
        "        index += 1\n",
        "        examsChecked.append(exam)\n",
        "    return countHard"
      ]
    },
    {
      "cell_type": "code",
      "execution_count": 29,
      "metadata": {
        "execution": {
          "iopub.execute_input": "2022-08-21T11:15:56.971491Z",
          "iopub.status.busy": "2022-08-21T11:15:56.970008Z",
          "iopub.status.idle": "2022-08-21T11:15:56.976775Z",
          "shell.execute_reply": "2022-08-21T11:15:56.975722Z",
          "shell.execute_reply.started": "2022-08-21T11:15:56.971453Z"
        },
        "id": "PwIGSvZcUNi_",
        "trusted": true
      },
      "outputs": [],
      "source": [
        "def evaluateSoftConstraints():\n",
        "    countSoft = 0\n",
        "    examsChecked = []\n",
        "    index = 0\n",
        "    while index  < len(exam_objects):\n",
        "        exam = exam_objects[index]\n",
        "        flag = False\n",
        "        for j in exam.exam_conflicts:\n",
        "            for k in examsChecked:\n",
        "                if  k == j:\n",
        "                    flag = True\n",
        "            if flag:\n",
        "                continue\n",
        "            else:\n",
        "                if np.abs(exam.slot.index - j.slot.index) < 3:\n",
        "                    countSoft += 1\n",
        "        index += 1\n",
        "        examsChecked.append(exam)\n",
        "    return countSoft"
      ]
    },
    {
      "cell_type": "code",
      "execution_count": 30,
      "metadata": {
        "execution": {
          "iopub.execute_input": "2022-08-21T11:15:56.982353Z",
          "iopub.status.busy": "2022-08-21T11:15:56.981429Z",
          "iopub.status.idle": "2022-08-21T11:15:56.988871Z",
          "shell.execute_reply": "2022-08-21T11:15:56.987963Z",
          "shell.execute_reply.started": "2022-08-21T11:15:56.982316Z"
        },
        "id": "_NGOuupUUNi_",
        "trusted": true
      },
      "outputs": [],
      "source": [
        "def evaluate():\n",
        "    metricHardConstraints = 0\n",
        "    metricSoftConstraints = 0\n",
        "    metricHardConstraints += evaluateHardConstraints()\n",
        "    metricSoftConstraints += evaluateSoftConstraints()\n",
        "    return metricSoftConstraints, metricHardConstraints"
      ]
    },
    {
      "cell_type": "code",
      "execution_count": 31,
      "metadata": {
        "id": "QQr04lrDUNi_"
      },
      "outputs": [],
      "source": [
        "def getMapKey(obj):\n",
        "    return obj.capacity"
      ]
    },
    {
      "cell_type": "code",
      "execution_count": 32,
      "metadata": {
        "id": "xEsNgLJjUNjA"
      },
      "outputs": [],
      "source": [
        "room_max_capacity = room_objects[0]\n",
        "for i in room_objects:\n",
        "    if room_max_capacity.capacity < i.capacity:\n",
        "        room_max_capacity = i"
      ]
    },
    {
      "cell_type": "code",
      "execution_count": 33,
      "metadata": {
        "execution": {
          "iopub.execute_input": "2022-08-21T11:15:57.265972Z",
          "iopub.status.busy": "2022-08-21T11:15:57.265642Z",
          "iopub.status.idle": "2022-08-21T11:15:57.271455Z",
          "shell.execute_reply": "2022-08-21T11:15:57.270505Z",
          "shell.execute_reply.started": "2022-08-21T11:15:57.265943Z"
        },
        "id": "xZGE7UuIUNjA",
        "trusted": true
      },
      "outputs": [],
      "source": [
        "def assignSlotsForSolution(solution):\n",
        "    for i in slot_objects:\n",
        "        i.exams = []\n",
        "        i.student_count = 0\n",
        "    for i in exam_objects:\n",
        "        i.rooms = []\n",
        "    for i in solution:\n",
        "        list(i)[0].slot = list(i)[1]\n",
        "        list(i)[0].rooms.append(list(i)[2])\n",
        "        list(i)[1].exams.append(list(i)[0])\n",
        "        list(i)[1].student_count += len(list(i)[0].students)\n",
        "        #list(i)[2].seats_occupied += len(list(i)[0].students)"
      ]
    },
    {
      "cell_type": "code",
      "execution_count": 34,
      "metadata": {
        "id": "kn4LxUGwUNjA"
      },
      "outputs": [],
      "source": [
        "t_max = 5.0\n",
        "t_min = 0.0019\n",
        "MAX_ITER = 10"
      ]
    },
    {
      "cell_type": "code",
      "execution_count": 35,
      "metadata": {
        "execution": {
          "iopub.execute_input": "2022-08-21T11:15:57.289950Z",
          "iopub.status.busy": "2022-08-21T11:15:57.289637Z",
          "iopub.status.idle": "2022-08-21T11:16:22.416529Z",
          "shell.execute_reply": "2022-08-21T11:16:22.415556Z",
          "shell.execute_reply.started": "2022-08-21T11:15:57.289923Z"
        },
        "id": "UmJ5yEF8UNjA",
        "trusted": true
      },
      "outputs": [],
      "source": [
        "def aco(EVAPORATION_RATE, numAnts, alpha, beta):\n",
        "    index = 0\n",
        "    totalConflictsForExams()\n",
        "    sortedExamsByPriority = sorted(exam_objects, key=getKey, reverse=True)\n",
        "    #sortedExamsByPriority = exam_objects\n",
        "    initPheromoneMatrix(sortedExamsByPriority, slot_objects, room_objects, t_max)\n",
        "    evaluationSoftMap = []\n",
        "    evaluationHardMap = []\n",
        "    A_gb = set()\n",
        "    prevScore = 0\n",
        "    while index < MAX_ITER:\n",
        "        A_ib = set()\n",
        "        prevScoreAnt = 0\n",
        "        for k in range(numAnts):\n",
        "            initHeuristicsMatrix(sortedExamsByPriority, slot_objects, room_objects)\n",
        "            initRoomCapacityMatrixMatrix(sortedExamsByPriority, slot_objects, room_objects)\n",
        "            A = set()\n",
        "            chosenSlot = 0\n",
        "            for i in range(len(exam_objects)):\n",
        "                exam_objects[i].slot = -1\n",
        "                exam_objects[i].rooms = []\n",
        "                exam_objects[i].students_assigned = 0\n",
        "            for i in slot_objects:\n",
        "                i.student_count = 0\n",
        "            for i in room_objects:\n",
        "                i.seats_occupied = 0\n",
        "                i.seats_remaining = i.capacity\n",
        "            for i in range(len(exam_objects)):\n",
        "                chosenSlot = chooseSlot(i,sortedExamsByPriority[i], slot_objects, room_objects, alpha, beta)\n",
        "                sortedExamsByPriority[i].slot = chosenSlot[0]\n",
        "                sortedExamsByPriority[i].rooms.append(chosenSlot[1])\n",
        "                chosenSlot[0].student_count += len(sortedExamsByPriority[i].students)\n",
        "                A.add((sortedExamsByPriority[i], chosenSlot[0], tuple(chosenSlot[1])))\n",
        "            assignSlotsForSolution(A)\n",
        "            scoreAl = evaluate()[0] + evaluate()[1] * 4\n",
        "            if A_ib != set():\n",
        "                A_ib = A if scoreAl < prevScoreAnt else A_ib\n",
        "                prevScoreAnt = scoreAl if scoreAl < prevScoreAnt else prevScoreAnt\n",
        "            else:\n",
        "                A_ib = A\n",
        "                prevScoreAnt = scoreAl\n",
        "        assignSlotsForSolution(A_ib)\n",
        "        scoreA_ibl = evaluate()[0] + evaluate()[1] * 4\n",
        "        if A_gb != set():\n",
        "            A_gb = A_ib if scoreA_ibl < prevScore else A_gb\n",
        "            prevScore = scoreA_ibl if scoreA_ibl < prevScore else prevScore\n",
        "        else:\n",
        "            A_gb = A_ib\n",
        "            prevScore = scoreA_ibl\n",
        "        assignSlotsForSolution(A_gb)\n",
        "        updatePheromoneMatrix(t_min, t_max, EVAPORATION_RATE)\n",
        "        evaluationSoftMap.append((index, evaluate()[0]))\n",
        "        evaluationHardMap.append((index, evaluate()[1]))\n",
        "        index += 1\n",
        "    return evaluationSoftMap, evaluationHardMap, A_gb, prevScore"
      ]
    },
    {
      "cell_type": "code",
      "execution_count": 36,
      "metadata": {
        "id": "yJvK4HYvUNjA"
      },
      "outputs": [],
      "source": [
        "aco3 = aco(0.2, 6, 1.0, 2.0)"
      ]
    },
    {
      "cell_type": "code",
      "execution_count": 37,
      "metadata": {
        "colab": {
          "base_uri": "https://localhost:8080/"
        },
        "id": "Cg-dLDU8UNjB",
        "outputId": "881251fb-ab1d-42d0-c721-daf5d0704c1b"
      },
      "outputs": [
        {
          "name": "stdout",
          "output_type": "stream",
          "text": [
            "ACO2: 133\n"
          ]
        }
      ],
      "source": [
        "\n",
        "print(\"ACO2: \" + str(aco3[3]))\n"
      ]
    },
    {
      "cell_type": "code",
      "execution_count": 38,
      "metadata": {
        "execution": {
          "iopub.execute_input": "2022-08-21T11:16:22.418964Z",
          "iopub.status.busy": "2022-08-21T11:16:22.418591Z",
          "iopub.status.idle": "2022-08-21T11:16:22.627263Z",
          "shell.execute_reply": "2022-08-21T11:16:22.626212Z",
          "shell.execute_reply.started": "2022-08-21T11:16:22.418927Z"
        },
        "id": "3_OUuZuiUNjB",
        "trusted": true
      },
      "outputs": [],
      "source": [
        "hard_aco3 = pd.DataFrame(aco3[1], columns=['Iterations', 'Violations'])\n"
      ]
    },
    {
      "cell_type": "code",
      "execution_count": 39,
      "metadata": {
        "colab": {
          "base_uri": "https://localhost:8080/",
          "height": 479
        },
        "id": "_2fmGKMTUNjB",
        "outputId": "a1ab2486-01e4-4fc7-c247-e75d64ba327c"
      },
      "outputs": [
        {
          "data": {
            "text/plain": [
              "<matplotlib.legend.Legend at 0x7fd017cf60d0>"
            ]
          },
          "execution_count": 39,
          "metadata": {},
          "output_type": "execute_result"
        },
        {
          "data": {
            "image/png": "[encoded data removed]",
            "text/plain": [
              "<Figure size 1152x576 with 1 Axes>"
            ]
          },
          "metadata": {
            "needs_background": "light"
          },
          "output_type": "display_data"
        }
      ],
      "source": [
        "ax = hard_aco3.plot(x='Iterations', y='Violations', figsize=(16, 8), label=\"ACO1\")\n",
        "ax.legend(loc=\"upper right\")"
      ]
    },
    {
      "cell_type": "code",
      "execution_count": 40,
      "metadata": {
        "execution": {
          "iopub.execute_input": "2022-08-21T11:16:22.629229Z",
          "iopub.status.busy": "2022-08-21T11:16:22.628887Z",
          "iopub.status.idle": "2022-08-21T11:16:22.842846Z",
          "shell.execute_reply": "2022-08-21T11:16:22.841958Z",
          "shell.execute_reply.started": "2022-08-21T11:16:22.629185Z"
        },
        "id": "BWJGwUhRUNjC",
        "trusted": true
      },
      "outputs": [],
      "source": [
        "soft_aco3 = pd.DataFrame(aco3[0], columns=['Iterations', 'Violations'])\n"
      ]
    },
    {
      "cell_type": "code",
      "execution_count": 41,
      "metadata": {
        "colab": {
          "base_uri": "https://localhost:8080/",
          "height": 479
        },
        "id": "JL9Ag61HUNjC",
        "outputId": "c7d5ded4-3c82-47c6-b219-b38365c90e82"
      },
      "outputs": [
        {
          "data": {
            "text/plain": [
              "<matplotlib.legend.Legend at 0x7fd017d77350>"
            ]
          },
          "execution_count": 41,
          "metadata": {},
          "output_type": "execute_result"
        },
        {
          "data": {
            "image/png": "[encoded data removed]",
            "text/plain": [
              "<Figure size 1152x576 with 1 Axes>"
            ]
          },
          "metadata": {
            "needs_background": "light"
          },
          "output_type": "display_data"
        }
      ],
      "source": [
        "ax = soft_aco3.plot(x='Iterations', y='Violations', figsize=(16, 8), label=\"ACO1\")\n",
        "ax.legend(loc=\"upper right\")"
      ]
    },
    {
      "cell_type": "code",
      "execution_count": 42,
      "metadata": {
        "id": "L45qihXGUNjC"
      },
      "outputs": [],
      "source": [
        "studentArr = []\n",
        "for i in student_objects:\n",
        "    for j in i.exams:\n",
        "        roomArr = []\n",
        "        capArr = []\n",
        "        for k in list(j.rooms)[0]:\n",
        "            roomArr.append(k.code)\n",
        "            capArr.append(k.capacity)\n",
        "        studentArr.append([i.code, j.code, j.slot.index, j.slot.day, j.slot.type, j.duration, len(j.students), roomArr,capArr])"
      ]
    },
    {
      "cell_type": "code",
      "execution_count": 43,
      "metadata": {
        "id": "-irfYmb7UNjD"
      },
      "outputs": [],
      "source": [
        "pd.DataFrame(studentArr, columns=[\"student_code\", \"exam_code\", \"slot_index\", \"day\", \"type\", \"duration\", \"total_students\", \"rooms\", \"rooms_capacity\" ]).to_csv('output_log/student_output_8.csv')"
      ]
    },
    {
      "cell_type": "code",
      "execution_count": 44,
      "metadata": {
        "id": "mQQQ8uhfUNjD"
      },
      "outputs": [],
      "source": [
        "examArr = []\n",
        "for i in exam_objects:\n",
        "    roomArr = []\n",
        "    capArr = []\n",
        "    for j in list(i.rooms)[0]:\n",
        "        roomArr.append(j.code)\n",
        "        capArr.append(j.capacity)\n",
        "    examArr.append([i.code, i.slot.index, i.slot.day, i.slot.type, i.duration, len(i.students), roomArr, capArr, i.access_requirement])"
      ]
    },
    {
      "cell_type": "code",
      "execution_count": 45,
      "metadata": {
        "id": "0GGtYUvPUNjD"
      },
      "outputs": [],
      "source": [
        "pd.DataFrame(examArr, columns=[\"exam_code\", \"slot_index\", \"day\", \"type\", \"duration\", \"total_students\", \"rooms\", \"rooms_capacity\", \"special_requirement\" ]).to_csv('output_log/exam_output_8.csv')"
      ]
    }
  ],
  "metadata": {
    "colab": {
      "collapsed_sections": [],
      "provenance": []
    },
    "kernelspec": {
      "display_name": "Python 3.10.6 64-bit",
      "language": "python",
      "name": "python3"
    },
    "language_info": {
      "codemirror_mode": {
        "name": "ipython",
        "version": 3
      },
      "file_extension": ".py",
      "mimetype": "text/x-python",
      "name": "python",
      "nbconvert_exporter": "python",
      "pygments_lexer": "ipython3",
      "version": "3.10.6"
    },
    "vscode": {
      "interpreter": {
        "hash": "95cdb06e919eab5e2c554174537356ac9b55200d1eb6f880dc25de04343a18ea"
      }
    }
  },
  "nbformat": 4,
  "nbformat_minor": 0
}
